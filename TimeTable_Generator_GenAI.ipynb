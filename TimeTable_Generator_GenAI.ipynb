{
 "cells": [
  {
   "cell_type": "code",
   "execution_count": 1,
   "metadata": {},
   "outputs": [
    {
     "name": "stdout",
     "output_type": "stream",
     "text": [
      "Requirement already satisfied: langchain in c:\\users\\dell\\appdata\\local\\programs\\python\\python310\\lib\\site-packages (0.1.12)\n",
      "Requirement already satisfied: PyYAML>=5.3 in c:\\users\\dell\\appdata\\local\\programs\\python\\python310\\lib\\site-packages (from langchain) (6.0)\n",
      "Requirement already satisfied: SQLAlchemy<3,>=1.4 in c:\\users\\dell\\appdata\\local\\programs\\python\\python310\\lib\\site-packages (from langchain) (2.0.28)\n",
      "Requirement already satisfied: aiohttp<4.0.0,>=3.8.3 in c:\\users\\dell\\appdata\\local\\programs\\python\\python310\\lib\\site-packages (from langchain) (3.8.4)\n",
      "Requirement already satisfied: async-timeout<5.0.0,>=4.0.0 in c:\\users\\dell\\appdata\\local\\programs\\python\\python310\\lib\\site-packages (from langchain) (4.0.2)\n",
      "Requirement already satisfied: dataclasses-json<0.7,>=0.5.7 in c:\\users\\dell\\appdata\\local\\programs\\python\\python310\\lib\\site-packages (from langchain) (0.6.4)\n",
      "Requirement already satisfied: jsonpatch<2.0,>=1.33 in c:\\users\\dell\\appdata\\local\\programs\\python\\python310\\lib\\site-packages (from langchain) (1.33)\n",
      "Requirement already satisfied: langchain-community<0.1,>=0.0.28 in c:\\users\\dell\\appdata\\local\\programs\\python\\python310\\lib\\site-packages (from langchain) (0.0.28)\n",
      "Requirement already satisfied: langchain-core<0.2.0,>=0.1.31 in c:\\users\\dell\\appdata\\local\\programs\\python\\python310\\lib\\site-packages (from langchain) (0.1.32)\n",
      "Requirement already satisfied: langchain-text-splitters<0.1,>=0.0.1 in c:\\users\\dell\\appdata\\local\\programs\\python\\python310\\lib\\site-packages (from langchain) (0.0.1)\n",
      "Requirement already satisfied: langsmith<0.2.0,>=0.1.17 in c:\\users\\dell\\appdata\\local\\programs\\python\\python310\\lib\\site-packages (from langchain) (0.1.27)\n",
      "Requirement already satisfied: numpy<2,>=1 in c:\\users\\dell\\appdata\\local\\programs\\python\\python310\\lib\\site-packages (from langchain) (1.24.2)\n",
      "Requirement already satisfied: pydantic<3,>=1 in c:\\users\\dell\\appdata\\local\\programs\\python\\python310\\lib\\site-packages (from langchain) (2.3.0)\n",
      "Requirement already satisfied: requests<3,>=2 in c:\\users\\dell\\appdata\\local\\programs\\python\\python310\\lib\\site-packages (from langchain) (2.31.0)\n",
      "Requirement already satisfied: tenacity<9.0.0,>=8.1.0 in c:\\users\\dell\\appdata\\local\\programs\\python\\python310\\lib\\site-packages (from langchain) (8.2.3)\n",
      "Requirement already satisfied: attrs>=17.3.0 in c:\\users\\dell\\appdata\\local\\programs\\python\\python310\\lib\\site-packages (from aiohttp<4.0.0,>=3.8.3->langchain) (23.1.0)\n",
      "Requirement already satisfied: charset-normalizer<4.0,>=2.0 in c:\\users\\dell\\appdata\\local\\programs\\python\\python310\\lib\\site-packages (from aiohttp<4.0.0,>=3.8.3->langchain) (3.1.0)\n",
      "Requirement already satisfied: multidict<7.0,>=4.5 in c:\\users\\dell\\appdata\\local\\programs\\python\\python310\\lib\\site-packages (from aiohttp<4.0.0,>=3.8.3->langchain) (6.0.4)\n",
      "Requirement already satisfied: yarl<2.0,>=1.0 in c:\\users\\dell\\appdata\\local\\programs\\python\\python310\\lib\\site-packages (from aiohttp<4.0.0,>=3.8.3->langchain) (1.8.2)\n",
      "Requirement already satisfied: frozenlist>=1.1.1 in c:\\users\\dell\\appdata\\local\\programs\\python\\python310\\lib\\site-packages (from aiohttp<4.0.0,>=3.8.3->langchain) (1.3.3)\n",
      "Requirement already satisfied: aiosignal>=1.1.2 in c:\\users\\dell\\appdata\\local\\programs\\python\\python310\\lib\\site-packages (from aiohttp<4.0.0,>=3.8.3->langchain) (1.3.1)\n",
      "Requirement already satisfied: marshmallow<4.0.0,>=3.18.0 in c:\\users\\dell\\appdata\\local\\programs\\python\\python310\\lib\\site-packages (from dataclasses-json<0.7,>=0.5.7->langchain) (3.21.1)\n",
      "Requirement already satisfied: typing-inspect<1,>=0.4.0 in c:\\users\\dell\\appdata\\local\\programs\\python\\python310\\lib\\site-packages (from dataclasses-json<0.7,>=0.5.7->langchain) (0.9.0)\n",
      "Requirement already satisfied: jsonpointer>=1.9 in c:\\users\\dell\\appdata\\local\\programs\\python\\python310\\lib\\site-packages (from jsonpatch<2.0,>=1.33->langchain) (2.3)\n",
      "Requirement already satisfied: anyio<5,>=3 in c:\\users\\dell\\appdata\\local\\programs\\python\\python310\\lib\\site-packages (from langchain-core<0.2.0,>=0.1.31->langchain) (3.7.1)\n",
      "Requirement already satisfied: packaging<24.0,>=23.2 in c:\\users\\dell\\appdata\\local\\programs\\python\\python310\\lib\\site-packages (from langchain-core<0.2.0,>=0.1.31->langchain) (23.2)\n",
      "Requirement already satisfied: orjson<4.0.0,>=3.9.14 in c:\\users\\dell\\appdata\\local\\programs\\python\\python310\\lib\\site-packages (from langsmith<0.2.0,>=0.1.17->langchain) (3.9.15)\n",
      "Requirement already satisfied: annotated-types>=0.4.0 in c:\\users\\dell\\appdata\\local\\programs\\python\\python310\\lib\\site-packages (from pydantic<3,>=1->langchain) (0.5.0)\n",
      "Requirement already satisfied: pydantic-core==2.6.3 in c:\\users\\dell\\appdata\\local\\programs\\python\\python310\\lib\\site-packages (from pydantic<3,>=1->langchain) (2.6.3)\n",
      "Requirement already satisfied: typing-extensions>=4.6.1 in c:\\users\\dell\\appdata\\local\\programs\\python\\python310\\lib\\site-packages (from pydantic<3,>=1->langchain) (4.7.1)\n",
      "Requirement already satisfied: idna<4,>=2.5 in c:\\users\\dell\\appdata\\local\\programs\\python\\python310\\lib\\site-packages (from requests<3,>=2->langchain) (3.4)\n",
      "Requirement already satisfied: urllib3<3,>=1.21.1 in c:\\users\\dell\\appdata\\local\\programs\\python\\python310\\lib\\site-packages (from requests<3,>=2->langchain) (2.0.3)\n",
      "Requirement already satisfied: certifi>=2017.4.17 in c:\\users\\dell\\appdata\\local\\programs\\python\\python310\\lib\\site-packages (from requests<3,>=2->langchain) (2023.5.7)\n",
      "Requirement already satisfied: greenlet!=0.4.17 in c:\\users\\dell\\appdata\\local\\programs\\python\\python310\\lib\\site-packages (from SQLAlchemy<3,>=1.4->langchain) (3.0.3)\n",
      "Requirement already satisfied: sniffio>=1.1 in c:\\users\\dell\\appdata\\local\\programs\\python\\python310\\lib\\site-packages (from anyio<5,>=3->langchain-core<0.2.0,>=0.1.31->langchain) (1.3.0)\n",
      "Requirement already satisfied: exceptiongroup in c:\\users\\dell\\appdata\\local\\programs\\python\\python310\\lib\\site-packages (from anyio<5,>=3->langchain-core<0.2.0,>=0.1.31->langchain) (1.1.2)\n",
      "Requirement already satisfied: mypy-extensions>=0.3.0 in c:\\users\\dell\\appdata\\local\\programs\\python\\python310\\lib\\site-packages (from typing-inspect<1,>=0.4.0->dataclasses-json<0.7,>=0.5.7->langchain) (1.0.0)\n",
      "Note: you may need to restart the kernel to use updated packages.\n"
     ]
    },
    {
     "name": "stderr",
     "output_type": "stream",
     "text": [
      "\n",
      "[notice] A new release of pip is available: 23.3.2 -> 24.0\n",
      "[notice] To update, run: python.exe -m pip install --upgrade pip\n"
     ]
    }
   ],
   "source": [
    "pip install langchain"
   ]
  },
  {
   "cell_type": "code",
   "execution_count": 4,
   "metadata": {},
   "outputs": [
    {
     "name": "stdout",
     "output_type": "stream",
     "text": [
      "\n",
      "Personalized Study Plan for Alice:\n",
      "\n",
      "1. Identify and Address Challenges:\n",
      "- Allocate more time and focus on understanding algebra concepts\n",
      "- Seek extra help from teachers or tutors to clarify any doubts or difficulties\n",
      "- Practice more algebra problems and seek feedback to improve understanding\n",
      "- Use visual aids such as diagrams and graphs to better understand abstract concepts\n",
      "\n",
      "2. Incorporate Visual Study Techniques:\n",
      "- Create visual representations of algebraic equations and concepts to aid in understanding\n",
      "- Use flashcards or mind maps to summarize key concepts and formulas\n",
      "- Watch online videos or tutorials that use visuals to explain algebra concepts\n",
      "- Find practice problems with visual aids to reinforce understanding\n",
      "\n",
      "3. Create a Study Schedule:\n",
      "- Set aside specific study time for each subject, prioritizing math to improve understanding\n",
      "- Include breaks and leisure time to avoid burnout and maintain a healthy balance\n",
      "- Make use of free periods or after-school time to catch up on any missed material or seek extra help\n",
      "\n",
      "4. Utilize Study Resources:\n",
      "- Make use of textbooks, workbooks, and online resources specifically designed for visual learners\n",
      "- Form study groups with peers to discuss and explain concepts visually\n",
      "- Make use of online tools or apps that offer interactive and visual learning experiences\n",
      "- Attend review sessions or extra help sessions offered by\n"
     ]
    }
   ],
   "source": [
    "from langchain import PromptTemplate\n",
    "from langchain.llms import OpenAI\n",
    "from langchain.chains import LLMChain\n",
    "\n",
    "# Define the prompt template for generating a personalized study plan\n",
    "study_plan_template = '''Craft a personalized study plan tailored to {name}'s unique needs to help achieve their academic goals and personal learning objectives {personal_objective} based on the following information:\n",
    "0. Desired Study Style: {preferred_learning_style} \n",
    "1. Academic Performance across each subject:\n",
    "    - {subjects}\n",
    "    - {academic_performance}\n",
    "2. challenges address: {challenges} \n",
    "3. Extracurricular Activities and Commitments:\n",
    "    - {extracurricular_activities}\n",
    "'''\n",
    "\n",
    "study_plan_prompt = PromptTemplate(\n",
    "    input_variables=[\"name\", \"subject\", \"preferred_learning_style\", \"personal_objective\", \"academic_performance\", \"challenges\", \"extracurricular_activities\"],\n",
    "    template=study_plan_template\n",
    ")\n",
    "\n",
    "# Initialize the language model and chain\n",
    "llm = OpenAI(temperature=0.7, openai_api_key=\"OPEN_AI_KEY\")\n",
    "study_plan_chain = LLMChain(llm=llm, prompt=study_plan_prompt)\n",
    "\n",
    "# Sample set of answers\n",
    "user_answers = {\n",
    "    \"name\": \"Alice\",\n",
    "    \"subjects\": [\"Math\", \"Science\", \"English\"],\n",
    "    \"preferred_learning_style\": \"Visual\",\n",
    "    \"personal_objective\": \"Achieve top grades in all subjects\",\n",
    "    \"academic_performance\": {\n",
    "        \"Math\": \"Struggles with algebra but excels in geometry\",\n",
    "        \"Science\": \"Average performance, needs improvement in biology\",\n",
    "        \"English\": \"Consistently performs well, strong writing skills\"\n",
    "    },\n",
    "    \"challenges\": \"Difficulty understanding algebra concepts\",\n",
    "    \"extracurricular_activities\": [\"Basketball\", \"Chess Club\"]\n",
    "}\n",
    "\n",
    "\n",
    "# Format the study plan prompt\n",
    "formatted_prompt = study_plan_prompt.format(**user_answers)\n",
    "\n",
    "# Run the study plan generation chain\n",
    "generated_study_plan = study_plan_chain.run(user_answers)\n",
    "\n",
    "print(generated_study_plan)\n"
   ]
  },
  {
   "cell_type": "markdown",
   "metadata": {},
   "source": [
    "Another prompt template "
   ]
  },
  {
   "cell_type": "code",
   "execution_count": 10,
   "metadata": {},
   "outputs": [
    {
     "name": "stdout",
     "output_type": "stream",
     "text": [
      "\n",
      "Monday-Friday:\n",
      "6:00-7:00 AM: Wake up, eat breakfast, and get ready for the day\n",
      "7:00-8:00 AM: Review algebra concepts, use visual aids such as diagrams and graphs to better understand difficult concepts\n",
      "8:00-9:00 AM: Practice geometry problems, focusing on areas where Alice excels\n",
      "9:00-10:00 AM: Break\n",
      "10:00-11:00 AM: Study biology, use visual resources such as videos or diagrams to improve understanding. Take notes and make flashcards for important terms.\n",
      "11:00 AM-12:00 PM: Lunch break\n",
      "12:00-1:00 PM: Complete English assignments or practice writing skills. Use visual organizers or mind maps to outline ideas and structure essays.\n",
      "1:00-2:00 PM: Break\n",
      "2:00-3:00 PM: Review math notes and practice problems from the morning, focusing on areas of struggle. Use online resources or ask for help from a teacher or tutor if needed.\n",
      "3:00-4:00 PM: Participate in basketball practice or game\n",
      "4:00-5:00 PM: Dinner break\n",
      "5:00-6:00 PM: Attend chess club meeting\n"
     ]
    }
   ],
   "source": [
    "from langchain import PromptTemplate\n",
    "from langchain.llms import OpenAI\n",
    "from langchain.chains import LLMChain\n",
    "\n",
    "# Define the prompt template for generating a personalized study plan\n",
    "study_plan_template = '''Craft a personalized daily study timetable, tailored to {name}'s unique needs to assist in achieving their academic goals and personal learning objectives {personal_objective}. Utilize the following information:\n",
    "0. Desired Study Style: {preferred_learning_style} \n",
    "1. Academic Performance across each subject:\n",
    "    - {subjects}\n",
    "    - {academic_performance}\n",
    "2. challenges address: {challenges} \n",
    "3. Extracurricular Activities and Commitments:\n",
    "    - {extracurricular_activities}\n",
    "'''\n",
    "\n",
    "study_plan_prompt = PromptTemplate(\n",
    "    input_variables=[\"name\", \"subject\", \"preferred_learning_style\", \"personal_objective\", \"academic_performance\", \"challenges\", \"extracurricular_activities\"],\n",
    "    template=study_plan_template\n",
    ")\n",
    "\n",
    "# Initialize the language model and chain\n",
    "llm = OpenAI(temperature=0.7, openai_api_key=\"OPEN_AI_KEY\")\n",
    "study_plan_chain = LLMChain(llm=llm, prompt=study_plan_prompt)\n",
    "\n",
    "# Sample set of answers\n",
    "user_answers = {\n",
    "    \"name\": \"Alice\",\n",
    "    \"subjects\": [\"Math\", \"Science\", \"English\"],\n",
    "    \"preferred_learning_style\": \"Visual\",\n",
    "    \"personal_objective\": \"Achieve top grades in all subjects\",\n",
    "    \"academic_performance\": {\n",
    "        \"Math\": \"Struggles with algebra but excels in geometry\",\n",
    "        \"Science\": \"Average performance, needs improvement in biology\",\n",
    "        \"English\": \"Consistently performs well, strong writing skills\"\n",
    "    },\n",
    "    \"challenges\": \"Difficulty understanding algebra concepts\",\n",
    "    \"extracurricular_activities\": [\"Basketball\", \"Chess Club\"]\n",
    "}\n",
    "\n",
    "\n",
    "# Format the study plan prompt\n",
    "formatted_prompt = study_plan_prompt.format(**user_answers)\n",
    "\n",
    "# Run the study plan generation chain\n",
    "generated_study_plan = study_plan_chain.run(user_answers)\n",
    "\n",
    "print(generated_study_plan)\n"
   ]
  }
 ],
 "metadata": {
  "kernelspec": {
   "display_name": "Python 3",
   "language": "python",
   "name": "python3"
  },
  "language_info": {
   "codemirror_mode": {
    "name": "ipython",
    "version": 3
   },
   "file_extension": ".py",
   "mimetype": "text/x-python",
   "name": "python",
   "nbconvert_exporter": "python",
   "pygments_lexer": "ipython3",
   "version": "3.10.0"
  }
 },
 "nbformat": 4,
 "nbformat_minor": 2
}
